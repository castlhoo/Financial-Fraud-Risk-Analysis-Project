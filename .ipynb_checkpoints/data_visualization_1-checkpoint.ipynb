{
 "cells": [
  {
   "cell_type": "code",
   "execution_count": 1,
   "id": "8665f0cc-ea35-4f8a-8c7b-949ee4144a42",
   "metadata": {},
   "outputs": [],
   "source": [
    "import pandas as pd\n",
    "\n",
    "amount = pd.read_csv(\"amount.csv\")\n",
    "category = pd.read_csv(\"category.csv\")\n",
    "failed_attempts = pd.read_csv(\"failed_attempts.csv\")\n",
    "login_frequency = pd.read_csv(\"login_frequency.csv\")\n",
    "payment_method = pd.read_csv(\"payment_method.csv\")\n",
    "system_latency = pd.read_csv(\"system_latency.csv\")\n",
    "transaction_type = pd.read_csv(\"transaction_type.csv\")\n",
    "\n",
    "risk_incident = pd.read_csv(\"risk_incident.csv\")\n",
    "risk_type = pd.read_csv(\"risk_type.csv\")"
   ]
  },
  {
   "cell_type": "code",
   "execution_count": 7,
   "id": "be74712b-e371-4203-8da5-341a51e3e913",
   "metadata": {
    "collapsed": true,
    "jupyter": {
     "outputs_hidden": true
    }
   },
   "outputs": [
    {
     "data": {
      "text/html": [
       "<div>\n",
       "<style scoped>\n",
       "    .dataframe tbody tr th:only-of-type {\n",
       "        vertical-align: middle;\n",
       "    }\n",
       "\n",
       "    .dataframe tbody tr th {\n",
       "        vertical-align: top;\n",
       "    }\n",
       "\n",
       "    .dataframe thead th {\n",
       "        text-align: right;\n",
       "    }\n",
       "</style>\n",
       "<table border=\"1\" class=\"dataframe\">\n",
       "  <thead>\n",
       "    <tr style=\"text-align: right;\">\n",
       "      <th></th>\n",
       "      <th>Amount</th>\n",
       "      <th>Risk_Incident</th>\n",
       "    </tr>\n",
       "    <tr>\n",
       "      <th>Transaction_ID</th>\n",
       "      <th></th>\n",
       "      <th></th>\n",
       "    </tr>\n",
       "  </thead>\n",
       "  <tbody>\n",
       "    <tr>\n",
       "      <th>TXN00001</th>\n",
       "      <td>952.11</td>\n",
       "      <td>0</td>\n",
       "    </tr>\n",
       "    <tr>\n",
       "      <th>TXN00002</th>\n",
       "      <td>3293.29</td>\n",
       "      <td>1</td>\n",
       "    </tr>\n",
       "    <tr>\n",
       "      <th>TXN00003</th>\n",
       "      <td>2849.97</td>\n",
       "      <td>0</td>\n",
       "    </tr>\n",
       "    <tr>\n",
       "      <th>TXN00004</th>\n",
       "      <td>9813.53</td>\n",
       "      <td>0</td>\n",
       "    </tr>\n",
       "    <tr>\n",
       "      <th>TXN00005</th>\n",
       "      <td>1228.69</td>\n",
       "      <td>0</td>\n",
       "    </tr>\n",
       "  </tbody>\n",
       "</table>\n",
       "</div>"
      ],
      "text/plain": [
       "                 Amount  Risk_Incident\n",
       "Transaction_ID                        \n",
       "TXN00001         952.11              0\n",
       "TXN00002        3293.29              1\n",
       "TXN00003        2849.97              0\n",
       "TXN00004        9813.53              0\n",
       "TXN00005        1228.69              0"
      ]
     },
     "execution_count": 7,
     "metadata": {},
     "output_type": "execute_result"
    }
   ],
   "source": [
    "amount_incident = pd.merge(amount, risk_incident, on = \"Transaction_ID\") # Inner Join\n",
    "amount_incident = amount_incident.set_index(\"Transaction_ID\") # Set Index\n",
    "amount_incident.head()"
   ]
  },
  {
   "cell_type": "code",
   "execution_count": 23,
   "id": "26607b1f-fff7-4119-9ea0-96fdd43696ce",
   "metadata": {},
   "outputs": [
    {
     "name": "stdout",
     "output_type": "stream",
     "text": [
      "  Amount_Q  Risk_Count  Total  Risk_Rate\n",
      "0       Q1         354   2500     0.1416\n",
      "1       Q2         355   2500     0.1420\n",
      "2       Q3         356   2500     0.1424\n",
      "3       Q4         383   2500     0.1532\n"
     ]
    },
    {
     "name": "stderr",
     "output_type": "stream",
     "text": [
      "C:\\Users\\ksung\\AppData\\Local\\Temp\\ipykernel_28728\\2573060993.py:10: FutureWarning: The default of observed=False is deprecated and will be changed to True in a future version of pandas. Pass observed=False to retain current behavior or observed=True to adopt the future default and silence this warning.\n",
      "  incident_summary = amount_incident_Q.groupby(\"Amount_Q\")[\"Risk_Incident\"].agg(\n"
     ]
    },
    {
     "data": {
      "text/html": [
       "<div>\n",
       "<style scoped>\n",
       "    .dataframe tbody tr th:only-of-type {\n",
       "        vertical-align: middle;\n",
       "    }\n",
       "\n",
       "    .dataframe tbody tr th {\n",
       "        vertical-align: top;\n",
       "    }\n",
       "\n",
       "    .dataframe thead th {\n",
       "        text-align: right;\n",
       "    }\n",
       "</style>\n",
       "<table border=\"1\" class=\"dataframe\">\n",
       "  <thead>\n",
       "    <tr style=\"text-align: right;\">\n",
       "      <th></th>\n",
       "      <th>Amount_Q</th>\n",
       "      <th>Risk_Count</th>\n",
       "      <th>Total</th>\n",
       "      <th>Risk_Rate</th>\n",
       "    </tr>\n",
       "  </thead>\n",
       "  <tbody>\n",
       "    <tr>\n",
       "      <th>0</th>\n",
       "      <td>Q1</td>\n",
       "      <td>354</td>\n",
       "      <td>2500</td>\n",
       "      <td>0.1416</td>\n",
       "    </tr>\n",
       "    <tr>\n",
       "      <th>1</th>\n",
       "      <td>Q2</td>\n",
       "      <td>355</td>\n",
       "      <td>2500</td>\n",
       "      <td>0.1420</td>\n",
       "    </tr>\n",
       "    <tr>\n",
       "      <th>2</th>\n",
       "      <td>Q3</td>\n",
       "      <td>356</td>\n",
       "      <td>2500</td>\n",
       "      <td>0.1424</td>\n",
       "    </tr>\n",
       "    <tr>\n",
       "      <th>3</th>\n",
       "      <td>Q4</td>\n",
       "      <td>383</td>\n",
       "      <td>2500</td>\n",
       "      <td>0.1532</td>\n",
       "    </tr>\n",
       "  </tbody>\n",
       "</table>\n",
       "</div>"
      ],
      "text/plain": [
       "  Amount_Q  Risk_Count  Total  Risk_Rate\n",
       "0       Q1         354   2500     0.1416\n",
       "1       Q2         355   2500     0.1420\n",
       "2       Q3         356   2500     0.1424\n",
       "3       Q4         383   2500     0.1532"
      ]
     },
     "execution_count": 23,
     "metadata": {},
     "output_type": "execute_result"
    }
   ],
   "source": [
    "# Before Visualization, mitigate the range of amount for clear visualization.\n",
    "# check describe() and divide 4 ranges\n",
    "amount_incident.describe() \n",
    "# Divide four section and check what section has the most risk incidents\n",
    "amount_incident.head()\n",
    "\n",
    "amount_incident_Q = amount_incident.copy()\n",
    "amount_incident_Q[\"Amount_Q\"] = pd.qcut(amount_incident_Q[\"Amount\"], q=4, labels=[\"Q1\",\"Q2\",\"Q3\",\"Q4\"])\n",
    "\n",
    "incident_summary = amount_incident_Q.groupby(\"Amount_Q\")[\"Risk_Incident\"].agg(\n",
    "    Risk_Count = \"sum\",\n",
    "    Total = \"count\",\n",
    "    Risk_Rate = \"mean\"\n",
    ").reset_index()\n",
    "\n",
    "print(incident_summary)\n",
    "incident_summary.head()"
   ]
  },
  {
   "cell_type": "code",
   "execution_count": 26,
   "id": "99004638-9a50-4d30-8c8c-232fafbfbd71",
   "metadata": {},
   "outputs": [
    {
     "ename": "KeyError",
     "evalue": "'Riks_Rate'",
     "output_type": "error",
     "traceback": [
      "\u001b[1;31m---------------------------------------------------------------------------\u001b[0m",
      "\u001b[1;31mKeyError\u001b[0m                                  Traceback (most recent call last)",
      "File \u001b[1;32mC:\\ProgramData\\anaconda3\\Lib\\site-packages\\pandas\\core\\indexes\\base.py:3805\u001b[0m, in \u001b[0;36mIndex.get_loc\u001b[1;34m(self, key)\u001b[0m\n\u001b[0;32m   3804\u001b[0m \u001b[38;5;28;01mtry\u001b[39;00m:\n\u001b[1;32m-> 3805\u001b[0m     \u001b[38;5;28;01mreturn\u001b[39;00m \u001b[38;5;28mself\u001b[39m\u001b[38;5;241m.\u001b[39m_engine\u001b[38;5;241m.\u001b[39mget_loc(casted_key)\n\u001b[0;32m   3806\u001b[0m \u001b[38;5;28;01mexcept\u001b[39;00m \u001b[38;5;167;01mKeyError\u001b[39;00m \u001b[38;5;28;01mas\u001b[39;00m err:\n",
      "File \u001b[1;32mindex.pyx:167\u001b[0m, in \u001b[0;36mpandas._libs.index.IndexEngine.get_loc\u001b[1;34m()\u001b[0m\n",
      "File \u001b[1;32mindex.pyx:196\u001b[0m, in \u001b[0;36mpandas._libs.index.IndexEngine.get_loc\u001b[1;34m()\u001b[0m\n",
      "File \u001b[1;32mpandas\\\\_libs\\\\hashtable_class_helper.pxi:7081\u001b[0m, in \u001b[0;36mpandas._libs.hashtable.PyObjectHashTable.get_item\u001b[1;34m()\u001b[0m\n",
      "File \u001b[1;32mpandas\\\\_libs\\\\hashtable_class_helper.pxi:7089\u001b[0m, in \u001b[0;36mpandas._libs.hashtable.PyObjectHashTable.get_item\u001b[1;34m()\u001b[0m\n",
      "\u001b[1;31mKeyError\u001b[0m: 'Riks_Rate'",
      "\nThe above exception was the direct cause of the following exception:\n",
      "\u001b[1;31mKeyError\u001b[0m                                  Traceback (most recent call last)",
      "Cell \u001b[1;32mIn[26], line 13\u001b[0m\n\u001b[0;32m      4\u001b[0m     colors[index] \u001b[38;5;241m=\u001b[39m \u001b[38;5;124m'\u001b[39m\u001b[38;5;124m#BF2C47\u001b[39m\u001b[38;5;124m'\u001b[39m \u001b[38;5;66;03m# 색깔로 포인트\u001b[39;00m\n\u001b[0;32m      6\u001b[0m fig \u001b[38;5;241m=\u001b[39m go\u001b[38;5;241m.\u001b[39mFigure()\n\u001b[0;32m      8\u001b[0m fig\u001b[38;5;241m.\u001b[39madd_trace(\n\u001b[0;32m      9\u001b[0m     go\u001b[38;5;241m.\u001b[39mBar(\n\u001b[0;32m     10\u001b[0m         x \u001b[38;5;241m=\u001b[39m incident_summary[\u001b[38;5;124m\"\u001b[39m\u001b[38;5;124mAmount_Q\u001b[39m\u001b[38;5;124m\"\u001b[39m],\n\u001b[0;32m     11\u001b[0m         y \u001b[38;5;241m=\u001b[39m incident_summary[\u001b[38;5;124m\"\u001b[39m\u001b[38;5;124mRisk_Rate\u001b[39m\u001b[38;5;124m\"\u001b[39m],\n\u001b[0;32m     12\u001b[0m \n\u001b[1;32m---> 13\u001b[0m         text\u001b[38;5;241m=\u001b[39mincident_summary[\u001b[38;5;124m\"\u001b[39m\u001b[38;5;124mRiks_Rate\u001b[39m\u001b[38;5;124m\"\u001b[39m],\n\u001b[0;32m     14\u001b[0m         textposition\u001b[38;5;241m=\u001b[39m\u001b[38;5;124m\"\u001b[39m\u001b[38;5;124mauto\u001b[39m\u001b[38;5;124m\"\u001b[39m,\n\u001b[0;32m     15\u001b[0m         marker_color\u001b[38;5;241m=\u001b[39mcolors\n\u001b[0;32m     16\u001b[0m     )\n\u001b[0;32m     17\u001b[0m )\n\u001b[0;32m     19\u001b[0m fig\u001b[38;5;241m.\u001b[39mupdate_layout(\n\u001b[0;32m     20\u001b[0m     {\n\u001b[0;32m     21\u001b[0m         \u001b[38;5;124m\"\u001b[39m\u001b[38;5;124mtitle\u001b[39m\u001b[38;5;124m\"\u001b[39m : {\n\u001b[1;32m   (...)\u001b[0m\n\u001b[0;32m     40\u001b[0m     }\n\u001b[0;32m     41\u001b[0m )\n\u001b[0;32m     43\u001b[0m \u001b[38;5;66;03m# 특정 데이터 포인트에 주석(Annotation) 추가\u001b[39;00m\n",
      "File \u001b[1;32mC:\\ProgramData\\anaconda3\\Lib\\site-packages\\pandas\\core\\frame.py:4102\u001b[0m, in \u001b[0;36mDataFrame.__getitem__\u001b[1;34m(self, key)\u001b[0m\n\u001b[0;32m   4100\u001b[0m \u001b[38;5;28;01mif\u001b[39;00m \u001b[38;5;28mself\u001b[39m\u001b[38;5;241m.\u001b[39mcolumns\u001b[38;5;241m.\u001b[39mnlevels \u001b[38;5;241m>\u001b[39m \u001b[38;5;241m1\u001b[39m:\n\u001b[0;32m   4101\u001b[0m     \u001b[38;5;28;01mreturn\u001b[39;00m \u001b[38;5;28mself\u001b[39m\u001b[38;5;241m.\u001b[39m_getitem_multilevel(key)\n\u001b[1;32m-> 4102\u001b[0m indexer \u001b[38;5;241m=\u001b[39m \u001b[38;5;28mself\u001b[39m\u001b[38;5;241m.\u001b[39mcolumns\u001b[38;5;241m.\u001b[39mget_loc(key)\n\u001b[0;32m   4103\u001b[0m \u001b[38;5;28;01mif\u001b[39;00m is_integer(indexer):\n\u001b[0;32m   4104\u001b[0m     indexer \u001b[38;5;241m=\u001b[39m [indexer]\n",
      "File \u001b[1;32mC:\\ProgramData\\anaconda3\\Lib\\site-packages\\pandas\\core\\indexes\\base.py:3812\u001b[0m, in \u001b[0;36mIndex.get_loc\u001b[1;34m(self, key)\u001b[0m\n\u001b[0;32m   3807\u001b[0m     \u001b[38;5;28;01mif\u001b[39;00m \u001b[38;5;28misinstance\u001b[39m(casted_key, \u001b[38;5;28mslice\u001b[39m) \u001b[38;5;129;01mor\u001b[39;00m (\n\u001b[0;32m   3808\u001b[0m         \u001b[38;5;28misinstance\u001b[39m(casted_key, abc\u001b[38;5;241m.\u001b[39mIterable)\n\u001b[0;32m   3809\u001b[0m         \u001b[38;5;129;01mand\u001b[39;00m \u001b[38;5;28many\u001b[39m(\u001b[38;5;28misinstance\u001b[39m(x, \u001b[38;5;28mslice\u001b[39m) \u001b[38;5;28;01mfor\u001b[39;00m x \u001b[38;5;129;01min\u001b[39;00m casted_key)\n\u001b[0;32m   3810\u001b[0m     ):\n\u001b[0;32m   3811\u001b[0m         \u001b[38;5;28;01mraise\u001b[39;00m InvalidIndexError(key)\n\u001b[1;32m-> 3812\u001b[0m     \u001b[38;5;28;01mraise\u001b[39;00m \u001b[38;5;167;01mKeyError\u001b[39;00m(key) \u001b[38;5;28;01mfrom\u001b[39;00m \u001b[38;5;21;01merr\u001b[39;00m\n\u001b[0;32m   3813\u001b[0m \u001b[38;5;28;01mexcept\u001b[39;00m \u001b[38;5;167;01mTypeError\u001b[39;00m:\n\u001b[0;32m   3814\u001b[0m     \u001b[38;5;66;03m# If we have a listlike key, _check_indexing_error will raise\u001b[39;00m\n\u001b[0;32m   3815\u001b[0m     \u001b[38;5;66;03m#  InvalidIndexError. Otherwise we fall through and re-raise\u001b[39;00m\n\u001b[0;32m   3816\u001b[0m     \u001b[38;5;66;03m#  the TypeError.\u001b[39;00m\n\u001b[0;32m   3817\u001b[0m     \u001b[38;5;28mself\u001b[39m\u001b[38;5;241m.\u001b[39m_check_indexing_error(key)\n",
      "\u001b[1;31mKeyError\u001b[0m: 'Riks_Rate'"
     ]
    }
   ],
   "source": [
    "import plotly.graph_objects as go\n",
    "colors = ['#1B80BF'] * len(incident_summary[\"Amount_Q\"])\n",
    "for index in range(3, len(incident_summary[\"Amount_Q\"])): # 15부터 끝까지 색상변경(평균시간이 감소해서)\n",
    "    colors[index] = '#BF2C47' # 색깔로 포인트\n",
    "    \n",
    "fig = go.Figure()\n",
    "\n",
    "fig.add_trace(\n",
    "    go.Bar(\n",
    "        x = incident_summary[\"Amount_Q\"],\n",
    "        y = incident_summary[\"Risk_Rate\"],\n",
    "\n",
    "        text=incident_summary[\"Risk_Rate\"],\n",
    "        textposition=\"auto\",\n",
    "        marker_color=colors\n",
    "    )\n",
    ")\n",
    "\n",
    "fig.update_layout(\n",
    "    {\n",
    "        \"title\" : {\n",
    "            \"text\" : \"<b>Risk Incident Rate by Amount Quartile<b>\",\n",
    "            \"x\" : 0.5,\n",
    "            \"y\" : 0.9,\n",
    "            \"font\":{\n",
    "                \"size\":15\n",
    "            }\n",
    "        },\n",
    "        \"xaxis\": {\n",
    "            \"title\": \"Amount Quartile\",  # x축 제목 (날짜 범위)\n",
    "            \"showticklabels\": True,                  # x축 눈금 라벨을 표시\n",
    "            \"tickfont\": {\n",
    "                \"size\": 7  # x축 눈금 라벨의 글꼴 크기를 7로 지정\n",
    "            }\n",
    "        },\n",
    "        \"yaxis\": {\n",
    "            \"title\": \"Risk Rate\"  # y축 제목 (배송 시간 단위: days)\n",
    "        },\n",
    "        \"template\": 'plotly_white'  # 그래프 전체의 템플릿을 'plotly_white' (흰색 배경)로 설정\n",
    "    }\n",
    ")\n",
    "\n",
    "# 특정 데이터 포인트에 주석(Annotation) 추가\n",
    "fig.add_annotation(\n",
    "    x=\"Quartil4\",                        # 주석의 x좌표: 2018-04-30 (날짜)\n",
    "    y=10.4,                                # 주석의 y좌표: 10.4 (배송 시간)\n",
    "    text=\"<b>Increase Risk Rate</b>\",      # 주석에 표시할 텍스트 (굵게 표시)\n",
    "    showarrow=True,                        # 주석에 화살표를 표시하도록 설정\n",
    "    font=dict(\n",
    "        size=10,                           # 주석 텍스트의 글꼴 크기를 10으로 지정\n",
    "        color=\"#ffffff\"                    # 주석 텍스트의 색상을 흰색(#ffffff)으로 지정\n",
    "    ),\n",
    "    align=\"center\",                        # 주석 텍스트를 중앙 정렬\n",
    "    arrowhead=2,                           # 화살표 머리의 스타일을 2번으로 설정\n",
    "    arrowsize=1,                           # 화살표의 크기를 1로 설정\n",
    "    arrowwidth=2,                          # 화살표 선의 두께를 2로 설정\n",
    "    arrowcolor=\"#77BDD9\",                  # 화살표의 색상을 지정\n",
    "    ax=40,                                 # 화살표 꼬리의 x축 오프셋(픽셀 단위)\n",
    "    ay=-30,                                # 화살표 꼬리의 y축 오프셋(픽셀 단위)\n",
    "    bordercolor=\"#77BDD9\",                  # 주석 상자의 테두리 색상을 지정\n",
    "    borderwidth=2,                         # 주석 상자의 테두리 두께를 2로 설정\n",
    "    borderpad=4,                           # 주석 상자 내부의 패딩(여백)을 4로 설정\n",
    "    bgcolor=\"#F22E62\",                     # 주석 상자의 배경색을 지정\n",
    "    opacity=0.8                            # 주석 상자의 불투명도를 0.8로 설정 (약간 투명)\n",
    ")\n",
    "\n",
    "# 최종 그래프를 화면에 표시\n",
    "fig.show()\n",
    "            \n",
    "        \n",
    "    \n",
    "    \n"
   ]
  },
  {
   "cell_type": "markdown",
   "id": "4daac57f-fa89-4923-bddf-7897d5871d7b",
   "metadata": {},
   "source": [
    "### These results are not clear, but we can infer that the more amount increase, the more risk rate get bigger a little"
   ]
  },
  {
   "cell_type": "code",
   "execution_count": 24,
   "id": "f076bdcb-df01-402d-bbc3-e8e6fa754422",
   "metadata": {
    "scrolled": true
   },
   "outputs": [
    {
     "name": "stdout",
     "output_type": "stream",
     "text": [
      "                 Amount  Risk_Incident\n",
      "Amount         1.000000       0.012934\n",
      "Risk_Incident  0.012934       1.000000\n"
     ]
    }
   ],
   "source": [
    "# 1. Correlation of amount_incident\n",
    "# 2. scatter of amount_incident\n",
    "# 3. HeatMap of amount_incidnet\n",
    "\n",
    "# 1 Not any correlation (0.012934)\n",
    "corr = amount_incident.corr(numeric_only=True)\n",
    "print(corr)"
   ]
  },
  {
   "cell_type": "code",
   "execution_count": null,
   "id": "cd6f6340-6b67-48c3-bf92-84a577703505",
   "metadata": {},
   "outputs": [],
   "source": []
  }
 ],
 "metadata": {
  "kernelspec": {
   "display_name": "Python 3 (ipykernel)",
   "language": "python",
   "name": "python3"
  },
  "language_info": {
   "codemirror_mode": {
    "name": "ipython",
    "version": 3
   },
   "file_extension": ".py",
   "mimetype": "text/x-python",
   "name": "python",
   "nbconvert_exporter": "python",
   "pygments_lexer": "ipython3",
   "version": "3.12.7"
  }
 },
 "nbformat": 4,
 "nbformat_minor": 5
}
