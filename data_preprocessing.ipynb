{
 "cells": [
  {
   "cell_type": "markdown",
   "id": "7bb0a4a0-360a-4319-9c8f-451156fe535f",
   "metadata": {},
   "source": [
    "# 파일 불러오기 및 데이터 확인"
   ]
  },
  {
   "cell_type": "code",
   "execution_count": 86,
   "id": "d03807ca-f4ed-49d2-9f44-e80621c3f646",
   "metadata": {
    "scrolled": true
   },
   "outputs": [
    {
     "data": {
      "text/html": [
       "<div>\n",
       "<style scoped>\n",
       "    .dataframe tbody tr th:only-of-type {\n",
       "        vertical-align: middle;\n",
       "    }\n",
       "\n",
       "    .dataframe tbody tr th {\n",
       "        vertical-align: top;\n",
       "    }\n",
       "\n",
       "    .dataframe thead th {\n",
       "        text-align: right;\n",
       "    }\n",
       "</style>\n",
       "<table border=\"1\" class=\"dataframe\">\n",
       "  <thead>\n",
       "    <tr style=\"text-align: right;\">\n",
       "      <th></th>\n",
       "      <th>Transaction_ID</th>\n",
       "      <th>Date</th>\n",
       "      <th>Account_Number</th>\n",
       "      <th>Transaction_Type</th>\n",
       "      <th>Amount</th>\n",
       "      <th>Currency</th>\n",
       "      <th>Counterparty</th>\n",
       "      <th>Category</th>\n",
       "      <th>Payment_Method</th>\n",
       "      <th>Risk_Incident</th>\n",
       "      <th>Risk_Type</th>\n",
       "      <th>Incident_Severity</th>\n",
       "      <th>Error_Code</th>\n",
       "      <th>User_ID</th>\n",
       "      <th>System_Latency</th>\n",
       "      <th>Login_Frequency</th>\n",
       "      <th>Failed_Attempts</th>\n",
       "      <th>IP_Region</th>\n",
       "    </tr>\n",
       "  </thead>\n",
       "  <tbody>\n",
       "    <tr>\n",
       "      <th>0</th>\n",
       "      <td>TXN00001</td>\n",
       "      <td>2024-08-18</td>\n",
       "      <td>250637</td>\n",
       "      <td>Refund</td>\n",
       "      <td>952.11</td>\n",
       "      <td>USD</td>\n",
       "      <td>Garcia-Gordon</td>\n",
       "      <td>Payroll</td>\n",
       "      <td>Cash</td>\n",
       "      <td>0</td>\n",
       "      <td>NaN</td>\n",
       "      <td>NaN</td>\n",
       "      <td>NaN</td>\n",
       "      <td>U001</td>\n",
       "      <td>299.26</td>\n",
       "      <td>6</td>\n",
       "      <td>2</td>\n",
       "      <td>TH</td>\n",
       "    </tr>\n",
       "    <tr>\n",
       "      <th>1</th>\n",
       "      <td>TXN00002</td>\n",
       "      <td>2024-11-26</td>\n",
       "      <td>122794</td>\n",
       "      <td>Debit</td>\n",
       "      <td>3293.29</td>\n",
       "      <td>USD</td>\n",
       "      <td>Heath, Pena and Buchanan</td>\n",
       "      <td>Payroll</td>\n",
       "      <td>Cash</td>\n",
       "      <td>1</td>\n",
       "      <td>Error</td>\n",
       "      <td>Low</td>\n",
       "      <td>E002</td>\n",
       "      <td>U233</td>\n",
       "      <td>248.61</td>\n",
       "      <td>4</td>\n",
       "      <td>1</td>\n",
       "      <td>TW</td>\n",
       "    </tr>\n",
       "    <tr>\n",
       "      <th>2</th>\n",
       "      <td>TXN00003</td>\n",
       "      <td>2024-04-30</td>\n",
       "      <td>152231</td>\n",
       "      <td>Debit</td>\n",
       "      <td>2849.97</td>\n",
       "      <td>USD</td>\n",
       "      <td>Pham PLC</td>\n",
       "      <td>Operations</td>\n",
       "      <td>Cash</td>\n",
       "      <td>0</td>\n",
       "      <td>NaN</td>\n",
       "      <td>NaN</td>\n",
       "      <td>NaN</td>\n",
       "      <td>U251</td>\n",
       "      <td>378.61</td>\n",
       "      <td>6</td>\n",
       "      <td>2</td>\n",
       "      <td>BI</td>\n",
       "    </tr>\n",
       "    <tr>\n",
       "      <th>3</th>\n",
       "      <td>TXN00004</td>\n",
       "      <td>2024-03-23</td>\n",
       "      <td>862833</td>\n",
       "      <td>Refund</td>\n",
       "      <td>9813.53</td>\n",
       "      <td>USD</td>\n",
       "      <td>Levine, Long and Stewart</td>\n",
       "      <td>Payroll</td>\n",
       "      <td>Cash</td>\n",
       "      <td>0</td>\n",
       "      <td>NaN</td>\n",
       "      <td>NaN</td>\n",
       "      <td>NaN</td>\n",
       "      <td>U235</td>\n",
       "      <td>242.19</td>\n",
       "      <td>9</td>\n",
       "      <td>3</td>\n",
       "      <td>LV</td>\n",
       "    </tr>\n",
       "    <tr>\n",
       "      <th>4</th>\n",
       "      <td>TXN00005</td>\n",
       "      <td>2024-07-03</td>\n",
       "      <td>436506</td>\n",
       "      <td>Credit</td>\n",
       "      <td>1228.69</td>\n",
       "      <td>USD</td>\n",
       "      <td>Lee LLC</td>\n",
       "      <td>Inventory</td>\n",
       "      <td>Bank Transfer</td>\n",
       "      <td>0</td>\n",
       "      <td>NaN</td>\n",
       "      <td>NaN</td>\n",
       "      <td>NaN</td>\n",
       "      <td>U500</td>\n",
       "      <td>327.81</td>\n",
       "      <td>4</td>\n",
       "      <td>1</td>\n",
       "      <td>DZ</td>\n",
       "    </tr>\n",
       "  </tbody>\n",
       "</table>\n",
       "</div>"
      ],
      "text/plain": [
       "  Transaction_ID        Date  Account_Number Transaction_Type   Amount  \\\n",
       "0       TXN00001  2024-08-18          250637           Refund   952.11   \n",
       "1       TXN00002  2024-11-26          122794            Debit  3293.29   \n",
       "2       TXN00003  2024-04-30          152231            Debit  2849.97   \n",
       "3       TXN00004  2024-03-23          862833           Refund  9813.53   \n",
       "4       TXN00005  2024-07-03          436506           Credit  1228.69   \n",
       "\n",
       "  Currency              Counterparty    Category Payment_Method  \\\n",
       "0      USD             Garcia-Gordon     Payroll           Cash   \n",
       "1      USD  Heath, Pena and Buchanan     Payroll           Cash   \n",
       "2      USD                  Pham PLC  Operations           Cash   \n",
       "3      USD  Levine, Long and Stewart     Payroll           Cash   \n",
       "4      USD                   Lee LLC   Inventory  Bank Transfer   \n",
       "\n",
       "   Risk_Incident Risk_Type Incident_Severity Error_Code User_ID  \\\n",
       "0              0       NaN               NaN        NaN    U001   \n",
       "1              1     Error               Low       E002    U233   \n",
       "2              0       NaN               NaN        NaN    U251   \n",
       "3              0       NaN               NaN        NaN    U235   \n",
       "4              0       NaN               NaN        NaN    U500   \n",
       "\n",
       "   System_Latency  Login_Frequency  Failed_Attempts IP_Region  \n",
       "0          299.26                6                2        TH  \n",
       "1          248.61                4                1        TW  \n",
       "2          378.61                6                2        BI  \n",
       "3          242.19                9                3        LV  \n",
       "4          327.81                4                1        DZ  "
      ]
     },
     "execution_count": 86,
     "metadata": {},
     "output_type": "execute_result"
    }
   ],
   "source": [
    "import pandas as pd\n",
    "\n",
    "PATH = \"accounting_dataset.csv\"\n",
    "doc = pd.read_csv(PATH)\n",
    "\n",
    "doc.head()"
   ]
  },
  {
   "cell_type": "markdown",
   "id": "233ae32f-e9cf-43c2-84ec-7d121646707e",
   "metadata": {},
   "source": [
    "# 프로젝트 개괄\n",
    "## 부정회계탐지하여 금융거래의 신뢰성 향상\n",
    "### 거래금액(Amount), Login_Frequency과의 관계성을 보고 어떤 요인이 Risk Incident에 큰 영향을 주는지 보려고 함\n",
    "\n",
    "### 부정회계에 영향을 주는 요소들을 파악하고, 사용자가 시스템 이용시, UI로 경고메시지를 추가해주거나, 직접 모니터링을 통해 부정회계를 방지할 수 있음."
   ]
  },
  {
   "cell_type": "markdown",
   "id": "b393608a-211b-4574-8d46-30beeffe866e",
   "metadata": {},
   "source": [
    "### 1-1) EDA를 기반으로 한 데이터 전처리"
   ]
  },
  {
   "cell_type": "code",
   "execution_count": 7,
   "id": "ecb50889-3583-4635-9130-37c8234349bb",
   "metadata": {},
   "outputs": [
    {
     "data": {
      "text/plain": [
       "(10000, 18)"
      ]
     },
     "execution_count": 7,
     "metadata": {},
     "output_type": "execute_result"
    }
   ],
   "source": [
    "doc.shape"
   ]
  },
  {
   "cell_type": "code",
   "execution_count": 87,
   "id": "de926526-f182-4488-bfbb-8a07ee34e0a6",
   "metadata": {},
   "outputs": [
    {
     "data": {
      "text/html": [
       "<div>\n",
       "<style scoped>\n",
       "    .dataframe tbody tr th:only-of-type {\n",
       "        vertical-align: middle;\n",
       "    }\n",
       "\n",
       "    .dataframe tbody tr th {\n",
       "        vertical-align: top;\n",
       "    }\n",
       "\n",
       "    .dataframe thead th {\n",
       "        text-align: right;\n",
       "    }\n",
       "</style>\n",
       "<table border=\"1\" class=\"dataframe\">\n",
       "  <thead>\n",
       "    <tr style=\"text-align: right;\">\n",
       "      <th></th>\n",
       "      <th>Account_Number</th>\n",
       "      <th>Amount</th>\n",
       "      <th>Risk_Incident</th>\n",
       "      <th>System_Latency</th>\n",
       "      <th>Login_Frequency</th>\n",
       "      <th>Failed_Attempts</th>\n",
       "    </tr>\n",
       "  </thead>\n",
       "  <tbody>\n",
       "    <tr>\n",
       "      <th>count</th>\n",
       "      <td>10000.000000</td>\n",
       "      <td>10000.000000</td>\n",
       "      <td>10000.000000</td>\n",
       "      <td>10000.000000</td>\n",
       "      <td>10000.000000</td>\n",
       "      <td>10000.000000</td>\n",
       "    </tr>\n",
       "    <tr>\n",
       "      <th>mean</th>\n",
       "      <td>550262.371600</td>\n",
       "      <td>4988.750157</td>\n",
       "      <td>0.144800</td>\n",
       "      <td>300.978158</td>\n",
       "      <td>5.494700</td>\n",
       "      <td>2.490900</td>\n",
       "    </tr>\n",
       "    <tr>\n",
       "      <th>std</th>\n",
       "      <td>260526.980007</td>\n",
       "      <td>2890.160301</td>\n",
       "      <td>0.351917</td>\n",
       "      <td>115.005259</td>\n",
       "      <td>2.870783</td>\n",
       "      <td>1.707164</td>\n",
       "    </tr>\n",
       "    <tr>\n",
       "      <th>min</th>\n",
       "      <td>100018.000000</td>\n",
       "      <td>12.130000</td>\n",
       "      <td>0.000000</td>\n",
       "      <td>100.030000</td>\n",
       "      <td>1.000000</td>\n",
       "      <td>0.000000</td>\n",
       "    </tr>\n",
       "    <tr>\n",
       "      <th>25%</th>\n",
       "      <td>322302.500000</td>\n",
       "      <td>2449.010000</td>\n",
       "      <td>0.000000</td>\n",
       "      <td>201.925000</td>\n",
       "      <td>3.000000</td>\n",
       "      <td>1.000000</td>\n",
       "    </tr>\n",
       "    <tr>\n",
       "      <th>50%</th>\n",
       "      <td>551715.000000</td>\n",
       "      <td>4974.745000</td>\n",
       "      <td>0.000000</td>\n",
       "      <td>301.690000</td>\n",
       "      <td>5.000000</td>\n",
       "      <td>2.000000</td>\n",
       "    </tr>\n",
       "    <tr>\n",
       "      <th>75%</th>\n",
       "      <td>772783.750000</td>\n",
       "      <td>7481.250000</td>\n",
       "      <td>0.000000</td>\n",
       "      <td>400.385000</td>\n",
       "      <td>8.000000</td>\n",
       "      <td>4.000000</td>\n",
       "    </tr>\n",
       "    <tr>\n",
       "      <th>max</th>\n",
       "      <td>999946.000000</td>\n",
       "      <td>9999.540000</td>\n",
       "      <td>1.000000</td>\n",
       "      <td>499.990000</td>\n",
       "      <td>10.000000</td>\n",
       "      <td>5.000000</td>\n",
       "    </tr>\n",
       "  </tbody>\n",
       "</table>\n",
       "</div>"
      ],
      "text/plain": [
       "       Account_Number        Amount  Risk_Incident  System_Latency  \\\n",
       "count    10000.000000  10000.000000   10000.000000    10000.000000   \n",
       "mean    550262.371600   4988.750157       0.144800      300.978158   \n",
       "std     260526.980007   2890.160301       0.351917      115.005259   \n",
       "min     100018.000000     12.130000       0.000000      100.030000   \n",
       "25%     322302.500000   2449.010000       0.000000      201.925000   \n",
       "50%     551715.000000   4974.745000       0.000000      301.690000   \n",
       "75%     772783.750000   7481.250000       0.000000      400.385000   \n",
       "max     999946.000000   9999.540000       1.000000      499.990000   \n",
       "\n",
       "       Login_Frequency  Failed_Attempts  \n",
       "count     10000.000000     10000.000000  \n",
       "mean          5.494700         2.490900  \n",
       "std           2.870783         1.707164  \n",
       "min           1.000000         0.000000  \n",
       "25%           3.000000         1.000000  \n",
       "50%           5.000000         2.000000  \n",
       "75%           8.000000         4.000000  \n",
       "max          10.000000         5.000000  "
      ]
     },
     "execution_count": 87,
     "metadata": {},
     "output_type": "execute_result"
    }
   ],
   "source": [
    "doc.describe()"
   ]
  },
  {
   "cell_type": "code",
   "execution_count": 9,
   "id": "a81cf755-0748-4405-928c-de615ce4d26a",
   "metadata": {},
   "outputs": [
    {
     "data": {
      "text/plain": [
       "Index(['Transaction_ID', 'Date', 'Account_Number', 'Transaction_Type',\n",
       "       'Amount', 'Currency', 'Counterparty', 'Category', 'Payment_Method',\n",
       "       'Risk_Incident', 'Risk_Type', 'Incident_Severity', 'Error_Code',\n",
       "       'User_ID', 'System_Latency', 'Login_Frequency', 'Failed_Attempts',\n",
       "       'IP_Region'],\n",
       "      dtype='object')"
      ]
     },
     "execution_count": 9,
     "metadata": {},
     "output_type": "execute_result"
    }
   ],
   "source": [
    "doc.columns"
   ]
  },
  {
   "cell_type": "markdown",
   "id": "d141e850-e709-4017-aaa2-3d38eab9f606",
   "metadata": {},
   "source": [
    "## Merge에 사용될 Transaction_ID와 각 변수의 데이터 전처리 및 개별 CSV 파일화"
   ]
  },
  {
   "cell_type": "code",
   "execution_count": 15,
   "id": "8e0ab543-288b-455c-a8ec-416a24d7316f",
   "metadata": {
    "collapsed": true,
    "jupyter": {
     "outputs_hidden": true
    },
    "scrolled": true
   },
   "outputs": [
    {
     "data": {
      "text/html": [
       "<div>\n",
       "<style scoped>\n",
       "    .dataframe tbody tr th:only-of-type {\n",
       "        vertical-align: middle;\n",
       "    }\n",
       "\n",
       "    .dataframe tbody tr th {\n",
       "        vertical-align: top;\n",
       "    }\n",
       "\n",
       "    .dataframe thead th {\n",
       "        text-align: right;\n",
       "    }\n",
       "</style>\n",
       "<table border=\"1\" class=\"dataframe\">\n",
       "  <thead>\n",
       "    <tr style=\"text-align: right;\">\n",
       "      <th></th>\n",
       "      <th>Transaction_ID</th>\n",
       "      <th>Amount</th>\n",
       "    </tr>\n",
       "  </thead>\n",
       "  <tbody>\n",
       "    <tr>\n",
       "      <th>0</th>\n",
       "      <td>TXN00001</td>\n",
       "      <td>952.11</td>\n",
       "    </tr>\n",
       "    <tr>\n",
       "      <th>1</th>\n",
       "      <td>TXN00002</td>\n",
       "      <td>3293.29</td>\n",
       "    </tr>\n",
       "    <tr>\n",
       "      <th>2</th>\n",
       "      <td>TXN00003</td>\n",
       "      <td>2849.97</td>\n",
       "    </tr>\n",
       "    <tr>\n",
       "      <th>3</th>\n",
       "      <td>TXN00004</td>\n",
       "      <td>9813.53</td>\n",
       "    </tr>\n",
       "    <tr>\n",
       "      <th>4</th>\n",
       "      <td>TXN00005</td>\n",
       "      <td>1228.69</td>\n",
       "    </tr>\n",
       "  </tbody>\n",
       "</table>\n",
       "</div>"
      ],
      "text/plain": [
       "  Transaction_ID   Amount\n",
       "0       TXN00001   952.11\n",
       "1       TXN00002  3293.29\n",
       "2       TXN00003  2849.97\n",
       "3       TXN00004  9813.53\n",
       "4       TXN00005  1228.69"
      ]
     },
     "execution_count": 15,
     "metadata": {},
     "output_type": "execute_result"
    }
   ],
   "source": [
    "amount = doc[[\"Transaction_ID\", \"Amount\"]]\n",
    "amount.isnull().sum() \n",
    "amount.head()\n",
    "amount.to_csv(\"amount.csv\", index=False) "
   ]
  },
  {
   "cell_type": "code",
   "execution_count": 27,
   "id": "82cc540b-cc1d-4074-ae4e-004b15a6237a",
   "metadata": {},
   "outputs": [],
   "source": [
    "login_frequency = doc[[\"Transaction_ID\", \"Login_Frequency\"]]\n",
    "login_frequency.isnull().sum() \n",
    "login_frequency.head()\n",
    "login_frequency.to_csv(\"login_frequency.csv\", index=False) "
   ]
  },
  {
   "cell_type": "code",
   "execution_count": 39,
   "id": "c0a93a2c-7a21-4f6a-bc9a-91d111053bd8",
   "metadata": {},
   "outputs": [],
   "source": [
    "risk_incident = doc[[\"Transaction_ID\", \"Risk_Incident\"]]\n",
    "risk_incident.isnull().sum() \n",
    "risk_incident.head()\n",
    "risk_incident.to_csv(\"risk_incident.csv\", index=False)"
   ]
  },
  {
   "cell_type": "code",
   "execution_count": 83,
   "id": "95900f2d-9230-4590-a393-cfa0bf8c61fa",
   "metadata": {},
   "outputs": [],
   "source": [
    "risk_type.loc[:,\"Risk_Type\"] = risk_type[\"Risk_Type\"].astype(\"object\").fillna(\"None\") # .loc를 통해서 데이터프레임의 진짜열을 지정해주기\n",
    "risk_type.head() # 결측치를 None로 바꿔주고, 데이터타입 object로 변환\n",
    "risk_type[\"Risk_Type\"].dtype # Object\n",
    "risk_type.to_csv(\"risk_type.csv\", index=False) # index제외하고 risk_type만 저장"
   ]
  },
  {
   "cell_type": "markdown",
   "id": "4032b737-fd72-4cac-8cb4-f6463f5289ef",
   "metadata": {},
   "source": [
    "### Merge를 위한 중복값 확인"
   ]
  },
  {
   "cell_type": "code",
   "execution_count": 62,
   "id": "f81a44c3-d758-4faf-8384-b1b2692374c5",
   "metadata": {},
   "outputs": [
    {
     "data": {
      "text/plain": [
       "0       False\n",
       "1       False\n",
       "2       False\n",
       "3       False\n",
       "4       False\n",
       "        ...  \n",
       "9995    False\n",
       "9996    False\n",
       "9997    False\n",
       "9998    False\n",
       "9999    False\n",
       "Length: 10000, dtype: bool"
      ]
     },
     "execution_count": 62,
     "metadata": {},
     "output_type": "execute_result"
    }
   ],
   "source": [
    "amount.duplicated() # Nothing"
   ]
  },
  {
   "cell_type": "code",
   "execution_count": 65,
   "id": "f0c3d1b5-85cf-46b6-9042-e706b0180a0b",
   "metadata": {},
   "outputs": [
    {
     "data": {
      "text/plain": [
       "0       False\n",
       "1       False\n",
       "2       False\n",
       "3       False\n",
       "4       False\n",
       "        ...  \n",
       "9995    False\n",
       "9996    False\n",
       "9997    False\n",
       "9998    False\n",
       "9999    False\n",
       "Length: 10000, dtype: bool"
      ]
     },
     "execution_count": 65,
     "metadata": {},
     "output_type": "execute_result"
    }
   ],
   "source": [
    "login_frequency.duplicated() # Nothing"
   ]
  },
  {
   "cell_type": "code",
   "execution_count": 67,
   "id": "ae3309cb-5aa7-4a6d-bb64-588698f54173",
   "metadata": {},
   "outputs": [
    {
     "data": {
      "text/plain": [
       "0       False\n",
       "1       False\n",
       "2       False\n",
       "3       False\n",
       "4       False\n",
       "        ...  \n",
       "9995    False\n",
       "9996    False\n",
       "9997    False\n",
       "9998    False\n",
       "9999    False\n",
       "Length: 10000, dtype: bool"
      ]
     },
     "execution_count": 67,
     "metadata": {},
     "output_type": "execute_result"
    }
   ],
   "source": [
    "risk_incidents.duplicated()"
   ]
  },
  {
   "cell_type": "code",
   "execution_count": 82,
   "id": "65cba3c0-93f5-4f3a-a29e-e1525f0b6f61",
   "metadata": {
    "collapsed": true,
    "jupyter": {
     "outputs_hidden": true
    },
    "scrolled": true
   },
   "outputs": [
    {
     "data": {
      "text/plain": [
       "0       False\n",
       "1       False\n",
       "2       False\n",
       "3       False\n",
       "4       False\n",
       "        ...  \n",
       "9995    False\n",
       "9996    False\n",
       "9997    False\n",
       "9998    False\n",
       "9999    False\n",
       "Length: 10000, dtype: bool"
      ]
     },
     "execution_count": 82,
     "metadata": {},
     "output_type": "execute_result"
    }
   ],
   "source": [
    "risk_type.duplicated() # 10001 value, which is unnecessary. REMOVE\n",
    "#risk_type = risk_type.drop([\"Risk_Type\"])\n",
    "#risk_type.tail()\n"
   ]
  }
 ],
 "metadata": {
  "kernelspec": {
   "display_name": "Python 3 (ipykernel)",
   "language": "python",
   "name": "python3"
  },
  "language_info": {
   "codemirror_mode": {
    "name": "ipython",
    "version": 3
   },
   "file_extension": ".py",
   "mimetype": "text/x-python",
   "name": "python",
   "nbconvert_exporter": "python",
   "pygments_lexer": "ipython3",
   "version": "3.12.7"
  }
 },
 "nbformat": 4,
 "nbformat_minor": 5
}
